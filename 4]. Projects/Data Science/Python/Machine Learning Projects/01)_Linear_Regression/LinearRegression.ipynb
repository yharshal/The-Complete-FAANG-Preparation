{
  "nbformat": 4,
  "nbformat_minor": 0,
  "metadata": {
    "colab": {
      "name": "LinearRegression.ipynb",
      "provenance": [],
      "toc_visible": true,
      "authorship_tag": "ABX9TyM3xX5HVfJ2KDmjKRAqy3wW",
      "include_colab_link": true
    },
    "kernelspec": {
      "name": "python3",
      "display_name": "Python 3"
    },
    "language_info": {
      "name": "python"
    }
  },
  "cells": [
    {
      "cell_type": "markdown",
      "metadata": {
        "id": "view-in-github",
        "colab_type": "text"
      },
      "source": [
        "<a href=\"https://colab.research.google.com/github/maanasvi999/LinearRegression/blob/main/LinearRegression.ipynb\" target=\"_parent\"><img src=\"https://colab.research.google.com/assets/colab-badge.svg\" alt=\"Open In Colab\"/></a>"
      ]
    },
    {
      "cell_type": "markdown",
      "metadata": {
        "id": "YmqX_MYUnGes"
      },
      "source": [
        "# **Linear Regression**"
      ]
    },
    {
      "cell_type": "markdown",
      "metadata": {
        "id": "4PYfh1C0nK-p"
      },
      "source": [
        "Linear regression is a linear model, e.g. a model that assumes a linear relationship between the input variables (x) and the single output variable (y). More specifically, that y can be calculated from a linear combination of the input variables (x)."
      ]
    },
    {
      "cell_type": "markdown",
      "metadata": {
        "id": "v1xdrl7LnlvH"
      },
      "source": [
        "Following is Code Implementation for Calculating the Life Expectancy of a human in any country using Linear Regression"
      ]
    },
    {
      "cell_type": "code",
      "metadata": {
        "id": "9NBlF7deXUTS"
      },
      "source": [
        "import pandas as pd\n",
        "import numpy as np\n",
        "import matplotlib.pyplot as plt\n",
        "import seaborn as sns\n",
        "%matplotlib inline"
      ],
      "execution_count": 1,
      "outputs": []
    },
    {
      "cell_type": "code",
      "metadata": {
        "colab": {
          "base_uri": "https://localhost:8080/",
          "height": 278
        },
        "id": "bVMKjTBrXamW",
        "outputId": "370a423b-6abb-4f3a-90e9-7106924d12a6"
      },
      "source": [
        "df_data = pd.read_csv('Life Expectancy Data.csv')\n",
        "df_data.head()"
      ],
      "execution_count": 2,
      "outputs": [
        {
          "output_type": "execute_result",
          "data": {
            "text/html": [
              "<div>\n",
              "<style scoped>\n",
              "    .dataframe tbody tr th:only-of-type {\n",
              "        vertical-align: middle;\n",
              "    }\n",
              "\n",
              "    .dataframe tbody tr th {\n",
              "        vertical-align: top;\n",
              "    }\n",
              "\n",
              "    .dataframe thead th {\n",
              "        text-align: right;\n",
              "    }\n",
              "</style>\n",
              "<table border=\"1\" class=\"dataframe\">\n",
              "  <thead>\n",
              "    <tr style=\"text-align: right;\">\n",
              "      <th></th>\n",
              "      <th>Country</th>\n",
              "      <th>Year</th>\n",
              "      <th>Status</th>\n",
              "      <th>Life expectancy</th>\n",
              "      <th>Adult Mortality</th>\n",
              "      <th>infant deaths</th>\n",
              "      <th>Alcohol</th>\n",
              "      <th>percentage expenditure</th>\n",
              "      <th>Hepatitis B</th>\n",
              "      <th>Measles</th>\n",
              "      <th>BMI</th>\n",
              "      <th>under-five deaths</th>\n",
              "      <th>Polio</th>\n",
              "      <th>Total expenditure</th>\n",
              "      <th>Diphtheria</th>\n",
              "      <th>HIV/AIDS</th>\n",
              "      <th>GDP</th>\n",
              "      <th>Population</th>\n",
              "      <th>thinness  1-19 years</th>\n",
              "      <th>thinness 5-9 years</th>\n",
              "      <th>Income composition of resources</th>\n",
              "      <th>Schooling</th>\n",
              "    </tr>\n",
              "  </thead>\n",
              "  <tbody>\n",
              "    <tr>\n",
              "      <th>0</th>\n",
              "      <td>Afghanistan</td>\n",
              "      <td>2015</td>\n",
              "      <td>Developing</td>\n",
              "      <td>65.0</td>\n",
              "      <td>263.0</td>\n",
              "      <td>62</td>\n",
              "      <td>0.01</td>\n",
              "      <td>71.279624</td>\n",
              "      <td>65.0</td>\n",
              "      <td>1154</td>\n",
              "      <td>19.1</td>\n",
              "      <td>83</td>\n",
              "      <td>6.0</td>\n",
              "      <td>8.16</td>\n",
              "      <td>65.0</td>\n",
              "      <td>0.1</td>\n",
              "      <td>584.259210</td>\n",
              "      <td>33736494.0</td>\n",
              "      <td>17.2</td>\n",
              "      <td>17.3</td>\n",
              "      <td>0.479</td>\n",
              "      <td>10.1</td>\n",
              "    </tr>\n",
              "    <tr>\n",
              "      <th>1</th>\n",
              "      <td>Afghanistan</td>\n",
              "      <td>2014</td>\n",
              "      <td>Developing</td>\n",
              "      <td>59.9</td>\n",
              "      <td>271.0</td>\n",
              "      <td>64</td>\n",
              "      <td>0.01</td>\n",
              "      <td>73.523582</td>\n",
              "      <td>62.0</td>\n",
              "      <td>492</td>\n",
              "      <td>18.6</td>\n",
              "      <td>86</td>\n",
              "      <td>58.0</td>\n",
              "      <td>8.18</td>\n",
              "      <td>62.0</td>\n",
              "      <td>0.1</td>\n",
              "      <td>612.696514</td>\n",
              "      <td>327582.0</td>\n",
              "      <td>17.5</td>\n",
              "      <td>17.5</td>\n",
              "      <td>0.476</td>\n",
              "      <td>10.0</td>\n",
              "    </tr>\n",
              "    <tr>\n",
              "      <th>2</th>\n",
              "      <td>Afghanistan</td>\n",
              "      <td>2013</td>\n",
              "      <td>Developing</td>\n",
              "      <td>59.9</td>\n",
              "      <td>268.0</td>\n",
              "      <td>66</td>\n",
              "      <td>0.01</td>\n",
              "      <td>73.219243</td>\n",
              "      <td>64.0</td>\n",
              "      <td>430</td>\n",
              "      <td>18.1</td>\n",
              "      <td>89</td>\n",
              "      <td>62.0</td>\n",
              "      <td>8.13</td>\n",
              "      <td>64.0</td>\n",
              "      <td>0.1</td>\n",
              "      <td>631.744976</td>\n",
              "      <td>31731688.0</td>\n",
              "      <td>17.7</td>\n",
              "      <td>17.7</td>\n",
              "      <td>0.470</td>\n",
              "      <td>9.9</td>\n",
              "    </tr>\n",
              "    <tr>\n",
              "      <th>3</th>\n",
              "      <td>Afghanistan</td>\n",
              "      <td>2012</td>\n",
              "      <td>Developing</td>\n",
              "      <td>59.5</td>\n",
              "      <td>272.0</td>\n",
              "      <td>69</td>\n",
              "      <td>0.01</td>\n",
              "      <td>78.184215</td>\n",
              "      <td>67.0</td>\n",
              "      <td>2787</td>\n",
              "      <td>17.6</td>\n",
              "      <td>93</td>\n",
              "      <td>67.0</td>\n",
              "      <td>8.52</td>\n",
              "      <td>67.0</td>\n",
              "      <td>0.1</td>\n",
              "      <td>669.959000</td>\n",
              "      <td>3696958.0</td>\n",
              "      <td>17.9</td>\n",
              "      <td>18.0</td>\n",
              "      <td>0.463</td>\n",
              "      <td>9.8</td>\n",
              "    </tr>\n",
              "    <tr>\n",
              "      <th>4</th>\n",
              "      <td>Afghanistan</td>\n",
              "      <td>2011</td>\n",
              "      <td>Developing</td>\n",
              "      <td>59.2</td>\n",
              "      <td>275.0</td>\n",
              "      <td>71</td>\n",
              "      <td>0.01</td>\n",
              "      <td>7.097109</td>\n",
              "      <td>68.0</td>\n",
              "      <td>3013</td>\n",
              "      <td>17.2</td>\n",
              "      <td>97</td>\n",
              "      <td>68.0</td>\n",
              "      <td>7.87</td>\n",
              "      <td>68.0</td>\n",
              "      <td>0.1</td>\n",
              "      <td>63.537231</td>\n",
              "      <td>2978599.0</td>\n",
              "      <td>18.2</td>\n",
              "      <td>18.2</td>\n",
              "      <td>0.454</td>\n",
              "      <td>9.5</td>\n",
              "    </tr>\n",
              "  </tbody>\n",
              "</table>\n",
              "</div>"
            ],
            "text/plain": [
              "       Country  Year  ... Income composition of resources  Schooling\n",
              "0  Afghanistan  2015  ...                           0.479       10.1\n",
              "1  Afghanistan  2014  ...                           0.476       10.0\n",
              "2  Afghanistan  2013  ...                           0.470        9.9\n",
              "3  Afghanistan  2012  ...                           0.463        9.8\n",
              "4  Afghanistan  2011  ...                           0.454        9.5\n",
              "\n",
              "[5 rows x 22 columns]"
            ]
          },
          "metadata": {},
          "execution_count": 2
        }
      ]
    },
    {
      "cell_type": "code",
      "metadata": {
        "id": "cXhZuxRlYKbB"
      },
      "source": [
        "df_data=df_data.fillna(0)"
      ],
      "execution_count": 4,
      "outputs": []
    },
    {
      "cell_type": "code",
      "metadata": {
        "id": "zB9w8Io1YNWK"
      },
      "source": [
        "df_data['Status']=df_data['Status'].map({'Developing':0,'Developed':1})"
      ],
      "execution_count": 6,
      "outputs": []
    },
    {
      "cell_type": "code",
      "metadata": {
        "colab": {
          "base_uri": "https://localhost:8080/"
        },
        "id": "oIAobBjiYQXE",
        "outputId": "ef86d141-1d44-4ad5-ea1d-5053685b7596"
      },
      "source": [
        "df_data.info()"
      ],
      "execution_count": 8,
      "outputs": [
        {
          "output_type": "stream",
          "name": "stdout",
          "text": [
            "<class 'pandas.core.frame.DataFrame'>\n",
            "RangeIndex: 2938 entries, 0 to 2937\n",
            "Data columns (total 22 columns):\n",
            " #   Column                           Non-Null Count  Dtype  \n",
            "---  ------                           --------------  -----  \n",
            " 0   Country                          2938 non-null   object \n",
            " 1   Year                             2938 non-null   int64  \n",
            " 2   Status                           2938 non-null   int64  \n",
            " 3   Life expectancy                  2938 non-null   float64\n",
            " 4   Adult Mortality                  2938 non-null   float64\n",
            " 5   infant deaths                    2938 non-null   int64  \n",
            " 6   Alcohol                          2938 non-null   float64\n",
            " 7   percentage expenditure           2938 non-null   float64\n",
            " 8   Hepatitis B                      2938 non-null   float64\n",
            " 9   Measles                          2938 non-null   int64  \n",
            " 10   BMI                             2938 non-null   float64\n",
            " 11  under-five deaths                2938 non-null   int64  \n",
            " 12  Polio                            2938 non-null   float64\n",
            " 13  Total expenditure                2938 non-null   float64\n",
            " 14  Diphtheria                       2938 non-null   float64\n",
            " 15   HIV/AIDS                        2938 non-null   float64\n",
            " 16  GDP                              2938 non-null   float64\n",
            " 17  Population                       2938 non-null   float64\n",
            " 18   thinness  1-19 years            2938 non-null   float64\n",
            " 19   thinness 5-9 years              2938 non-null   float64\n",
            " 20  Income composition of resources  2938 non-null   float64\n",
            " 21  Schooling                        2938 non-null   float64\n",
            "dtypes: float64(16), int64(5), object(1)\n",
            "memory usage: 505.1+ KB\n"
          ]
        }
      ]
    },
    {
      "cell_type": "code",
      "metadata": {
        "colab": {
          "base_uri": "https://localhost:8080/",
          "height": 372
        },
        "id": "bVwyPlv9YWw1",
        "outputId": "aca358e3-7501-41b8-fa28-eab9cc1daed3"
      },
      "source": [
        "df_data.describe()"
      ],
      "execution_count": 9,
      "outputs": [
        {
          "output_type": "execute_result",
          "data": {
            "text/html": [
              "<div>\n",
              "<style scoped>\n",
              "    .dataframe tbody tr th:only-of-type {\n",
              "        vertical-align: middle;\n",
              "    }\n",
              "\n",
              "    .dataframe tbody tr th {\n",
              "        vertical-align: top;\n",
              "    }\n",
              "\n",
              "    .dataframe thead th {\n",
              "        text-align: right;\n",
              "    }\n",
              "</style>\n",
              "<table border=\"1\" class=\"dataframe\">\n",
              "  <thead>\n",
              "    <tr style=\"text-align: right;\">\n",
              "      <th></th>\n",
              "      <th>Year</th>\n",
              "      <th>Status</th>\n",
              "      <th>Life expectancy</th>\n",
              "      <th>Adult Mortality</th>\n",
              "      <th>infant deaths</th>\n",
              "      <th>Alcohol</th>\n",
              "      <th>percentage expenditure</th>\n",
              "      <th>Hepatitis B</th>\n",
              "      <th>Measles</th>\n",
              "      <th>BMI</th>\n",
              "      <th>under-five deaths</th>\n",
              "      <th>Polio</th>\n",
              "      <th>Total expenditure</th>\n",
              "      <th>Diphtheria</th>\n",
              "      <th>HIV/AIDS</th>\n",
              "      <th>GDP</th>\n",
              "      <th>Population</th>\n",
              "      <th>thinness  1-19 years</th>\n",
              "      <th>thinness 5-9 years</th>\n",
              "      <th>Income composition of resources</th>\n",
              "      <th>Schooling</th>\n",
              "    </tr>\n",
              "  </thead>\n",
              "  <tbody>\n",
              "    <tr>\n",
              "      <th>count</th>\n",
              "      <td>2938.000000</td>\n",
              "      <td>2938.000000</td>\n",
              "      <td>2938.000000</td>\n",
              "      <td>2938.000000</td>\n",
              "      <td>2938.000000</td>\n",
              "      <td>2938.000000</td>\n",
              "      <td>2938.000000</td>\n",
              "      <td>2938.000000</td>\n",
              "      <td>2938.000000</td>\n",
              "      <td>2938.000000</td>\n",
              "      <td>2938.000000</td>\n",
              "      <td>2938.000000</td>\n",
              "      <td>2938.000000</td>\n",
              "      <td>2938.000000</td>\n",
              "      <td>2938.000000</td>\n",
              "      <td>2938.000000</td>\n",
              "      <td>2.938000e+03</td>\n",
              "      <td>2938.000000</td>\n",
              "      <td>2938.000000</td>\n",
              "      <td>2938.00000</td>\n",
              "      <td>2938.000000</td>\n",
              "    </tr>\n",
              "    <tr>\n",
              "      <th>mean</th>\n",
              "      <td>2007.518720</td>\n",
              "      <td>0.174268</td>\n",
              "      <td>68.989312</td>\n",
              "      <td>164.235534</td>\n",
              "      <td>30.303948</td>\n",
              "      <td>4.298928</td>\n",
              "      <td>738.251295</td>\n",
              "      <td>65.705582</td>\n",
              "      <td>2419.592240</td>\n",
              "      <td>37.877774</td>\n",
              "      <td>42.035739</td>\n",
              "      <td>82.016338</td>\n",
              "      <td>5.481406</td>\n",
              "      <td>81.791695</td>\n",
              "      <td>1.742103</td>\n",
              "      <td>6342.091419</td>\n",
              "      <td>9.923150e+06</td>\n",
              "      <td>4.783696</td>\n",
              "      <td>4.813955</td>\n",
              "      <td>0.59188</td>\n",
              "      <td>11.327434</td>\n",
              "    </tr>\n",
              "    <tr>\n",
              "      <th>std</th>\n",
              "      <td>4.613841</td>\n",
              "      <td>0.379405</td>\n",
              "      <td>10.327437</td>\n",
              "      <td>124.451093</td>\n",
              "      <td>117.926501</td>\n",
              "      <td>4.079748</td>\n",
              "      <td>1987.914858</td>\n",
              "      <td>38.878316</td>\n",
              "      <td>11467.272489</td>\n",
              "      <td>20.344920</td>\n",
              "      <td>160.445548</td>\n",
              "      <td>24.271835</td>\n",
              "      <td>2.875063</td>\n",
              "      <td>24.544100</td>\n",
              "      <td>5.077785</td>\n",
              "      <td>13409.501883</td>\n",
              "      <td>5.407586e+07</td>\n",
              "      <td>4.424924</td>\n",
              "      <td>4.512880</td>\n",
              "      <td>0.25114</td>\n",
              "      <td>4.265626</td>\n",
              "    </tr>\n",
              "    <tr>\n",
              "      <th>min</th>\n",
              "      <td>2000.000000</td>\n",
              "      <td>0.000000</td>\n",
              "      <td>0.000000</td>\n",
              "      <td>0.000000</td>\n",
              "      <td>0.000000</td>\n",
              "      <td>0.000000</td>\n",
              "      <td>0.000000</td>\n",
              "      <td>0.000000</td>\n",
              "      <td>0.000000</td>\n",
              "      <td>0.000000</td>\n",
              "      <td>0.000000</td>\n",
              "      <td>0.000000</td>\n",
              "      <td>0.000000</td>\n",
              "      <td>0.000000</td>\n",
              "      <td>0.100000</td>\n",
              "      <td>0.000000</td>\n",
              "      <td>0.000000e+00</td>\n",
              "      <td>0.000000</td>\n",
              "      <td>0.000000</td>\n",
              "      <td>0.00000</td>\n",
              "      <td>0.000000</td>\n",
              "    </tr>\n",
              "    <tr>\n",
              "      <th>25%</th>\n",
              "      <td>2004.000000</td>\n",
              "      <td>0.000000</td>\n",
              "      <td>63.000000</td>\n",
              "      <td>73.000000</td>\n",
              "      <td>0.000000</td>\n",
              "      <td>0.470000</td>\n",
              "      <td>4.685343</td>\n",
              "      <td>24.000000</td>\n",
              "      <td>0.000000</td>\n",
              "      <td>19.000000</td>\n",
              "      <td>0.000000</td>\n",
              "      <td>77.000000</td>\n",
              "      <td>3.740000</td>\n",
              "      <td>78.000000</td>\n",
              "      <td>0.100000</td>\n",
              "      <td>190.174435</td>\n",
              "      <td>5.874250e+03</td>\n",
              "      <td>1.500000</td>\n",
              "      <td>1.500000</td>\n",
              "      <td>0.46500</td>\n",
              "      <td>9.500000</td>\n",
              "    </tr>\n",
              "    <tr>\n",
              "      <th>50%</th>\n",
              "      <td>2008.000000</td>\n",
              "      <td>0.000000</td>\n",
              "      <td>72.000000</td>\n",
              "      <td>144.000000</td>\n",
              "      <td>3.000000</td>\n",
              "      <td>3.130000</td>\n",
              "      <td>64.912906</td>\n",
              "      <td>87.000000</td>\n",
              "      <td>17.000000</td>\n",
              "      <td>43.000000</td>\n",
              "      <td>4.000000</td>\n",
              "      <td>93.000000</td>\n",
              "      <td>5.540000</td>\n",
              "      <td>93.000000</td>\n",
              "      <td>0.100000</td>\n",
              "      <td>1171.983435</td>\n",
              "      <td>5.393575e+05</td>\n",
              "      <td>3.300000</td>\n",
              "      <td>3.300000</td>\n",
              "      <td>0.66200</td>\n",
              "      <td>12.100000</td>\n",
              "    </tr>\n",
              "    <tr>\n",
              "      <th>75%</th>\n",
              "      <td>2012.000000</td>\n",
              "      <td>0.000000</td>\n",
              "      <td>75.600000</td>\n",
              "      <td>227.000000</td>\n",
              "      <td>22.000000</td>\n",
              "      <td>7.390000</td>\n",
              "      <td>441.534144</td>\n",
              "      <td>96.000000</td>\n",
              "      <td>360.250000</td>\n",
              "      <td>56.100000</td>\n",
              "      <td>28.000000</td>\n",
              "      <td>97.000000</td>\n",
              "      <td>7.330000</td>\n",
              "      <td>97.000000</td>\n",
              "      <td>0.800000</td>\n",
              "      <td>4779.405190</td>\n",
              "      <td>4.584371e+06</td>\n",
              "      <td>7.100000</td>\n",
              "      <td>7.200000</td>\n",
              "      <td>0.77200</td>\n",
              "      <td>14.100000</td>\n",
              "    </tr>\n",
              "    <tr>\n",
              "      <th>max</th>\n",
              "      <td>2015.000000</td>\n",
              "      <td>1.000000</td>\n",
              "      <td>89.000000</td>\n",
              "      <td>723.000000</td>\n",
              "      <td>1800.000000</td>\n",
              "      <td>17.870000</td>\n",
              "      <td>19479.911610</td>\n",
              "      <td>99.000000</td>\n",
              "      <td>212183.000000</td>\n",
              "      <td>87.300000</td>\n",
              "      <td>2500.000000</td>\n",
              "      <td>99.000000</td>\n",
              "      <td>17.600000</td>\n",
              "      <td>99.000000</td>\n",
              "      <td>50.600000</td>\n",
              "      <td>119172.741800</td>\n",
              "      <td>1.293859e+09</td>\n",
              "      <td>27.700000</td>\n",
              "      <td>28.600000</td>\n",
              "      <td>0.94800</td>\n",
              "      <td>20.700000</td>\n",
              "    </tr>\n",
              "  </tbody>\n",
              "</table>\n",
              "</div>"
            ],
            "text/plain": [
              "              Year       Status  ...  Income composition of resources    Schooling\n",
              "count  2938.000000  2938.000000  ...                       2938.00000  2938.000000\n",
              "mean   2007.518720     0.174268  ...                          0.59188    11.327434\n",
              "std       4.613841     0.379405  ...                          0.25114     4.265626\n",
              "min    2000.000000     0.000000  ...                          0.00000     0.000000\n",
              "25%    2004.000000     0.000000  ...                          0.46500     9.500000\n",
              "50%    2008.000000     0.000000  ...                          0.66200    12.100000\n",
              "75%    2012.000000     0.000000  ...                          0.77200    14.100000\n",
              "max    2015.000000     1.000000  ...                          0.94800    20.700000\n",
              "\n",
              "[8 rows x 21 columns]"
            ]
          },
          "metadata": {},
          "execution_count": 9
        }
      ]
    },
    {
      "cell_type": "code",
      "metadata": {
        "colab": {
          "base_uri": "https://localhost:8080/"
        },
        "id": "lW6xgHSHYZxN",
        "outputId": "1be3219b-be9c-42cb-9448-0e56d44b00d7"
      },
      "source": [
        "df_data.columns"
      ],
      "execution_count": 10,
      "outputs": [
        {
          "output_type": "execute_result",
          "data": {
            "text/plain": [
              "Index(['Country', 'Year', 'Status', 'Life expectancy ', 'Adult Mortality',\n",
              "       'infant deaths', 'Alcohol', 'percentage expenditure', 'Hepatitis B',\n",
              "       'Measles ', ' BMI ', 'under-five deaths ', 'Polio', 'Total expenditure',\n",
              "       'Diphtheria ', ' HIV/AIDS', 'GDP', 'Population',\n",
              "       ' thinness  1-19 years', ' thinness 5-9 years',\n",
              "       'Income composition of resources', 'Schooling'],\n",
              "      dtype='object')"
            ]
          },
          "metadata": {},
          "execution_count": 10
        }
      ]
    },
    {
      "cell_type": "code",
      "metadata": {
        "id": "O5L1_49BYd8U"
      },
      "source": [
        "X = df_data[['Year', 'Status', 'Adult Mortality',\n",
        "       'infant deaths', 'Alcohol', 'percentage expenditure', 'Hepatitis B',\n",
        "       'Measles ', ' BMI ', 'under-five deaths ', 'Polio', 'Total expenditure',\n",
        "       'Diphtheria ', ' HIV/AIDS', 'GDP', 'Population',\n",
        "       ' thinness  1-19 years', ' thinness 5-9 years',\n",
        "       'Income composition of resources', 'Schooling']]\n",
        "y = df_data['Life expectancy ']"
      ],
      "execution_count": 11,
      "outputs": []
    },
    {
      "cell_type": "code",
      "metadata": {
        "id": "n8Sl15wkYmWc"
      },
      "source": [
        "from sklearn.model_selection import train_test_split"
      ],
      "execution_count": 12,
      "outputs": []
    },
    {
      "cell_type": "code",
      "metadata": {
        "id": "0sx-6DjIYmS_"
      },
      "source": [
        "X_train, X_test, y_train, y_test = train_test_split(X, y, test_size=0.3, random_state=101)"
      ],
      "execution_count": 13,
      "outputs": []
    },
    {
      "cell_type": "code",
      "metadata": {
        "id": "VBtqjelQYmQh"
      },
      "source": [
        "from sklearn.linear_model import LinearRegression"
      ],
      "execution_count": 14,
      "outputs": []
    },
    {
      "cell_type": "code",
      "metadata": {
        "id": "tsMy_0GpYmNt"
      },
      "source": [
        "lm = LinearRegression()"
      ],
      "execution_count": 15,
      "outputs": []
    },
    {
      "cell_type": "code",
      "metadata": {
        "colab": {
          "base_uri": "https://localhost:8080/"
        },
        "id": "lutbOHWtYsiL",
        "outputId": "bfd61705-c8cb-4565-e415-1db1a1a9425a"
      },
      "source": [
        "lm.fit(X_train,y_train)"
      ],
      "execution_count": 16,
      "outputs": [
        {
          "output_type": "execute_result",
          "data": {
            "text/plain": [
              "LinearRegression(copy_X=True, fit_intercept=True, n_jobs=None, normalize=False)"
            ]
          },
          "metadata": {},
          "execution_count": 16
        }
      ]
    },
    {
      "cell_type": "code",
      "metadata": {
        "colab": {
          "base_uri": "https://localhost:8080/"
        },
        "id": "pz3QULKNYse4",
        "outputId": "47258d32-e807-4b76-8a54-62f5878d81ee"
      },
      "source": [
        "print(lm.intercept_)"
      ],
      "execution_count": 17,
      "outputs": [
        {
          "output_type": "stream",
          "name": "stdout",
          "text": [
            "68.70650014717911\n"
          ]
        }
      ]
    },
    {
      "cell_type": "code",
      "metadata": {
        "colab": {
          "base_uri": "https://localhost:8080/",
          "height": 676
        },
        "id": "TpZBL3m3Yscm",
        "outputId": "7f35c473-356d-458e-d343-ecd95c84914a"
      },
      "source": [
        "coeff_df = pd.DataFrame(lm.coef_,X.columns,columns=['Coefficient'])\n",
        "coeff_df"
      ],
      "execution_count": 18,
      "outputs": [
        {
          "output_type": "execute_result",
          "data": {
            "text/html": [
              "<div>\n",
              "<style scoped>\n",
              "    .dataframe tbody tr th:only-of-type {\n",
              "        vertical-align: middle;\n",
              "    }\n",
              "\n",
              "    .dataframe tbody tr th {\n",
              "        vertical-align: top;\n",
              "    }\n",
              "\n",
              "    .dataframe thead th {\n",
              "        text-align: right;\n",
              "    }\n",
              "</style>\n",
              "<table border=\"1\" class=\"dataframe\">\n",
              "  <thead>\n",
              "    <tr style=\"text-align: right;\">\n",
              "      <th></th>\n",
              "      <th>Coefficient</th>\n",
              "    </tr>\n",
              "  </thead>\n",
              "  <tbody>\n",
              "    <tr>\n",
              "      <th>Year</th>\n",
              "      <td>-5.048710e-03</td>\n",
              "    </tr>\n",
              "    <tr>\n",
              "      <th>Status</th>\n",
              "      <td>2.869336e+00</td>\n",
              "    </tr>\n",
              "    <tr>\n",
              "      <th>Adult Mortality</th>\n",
              "      <td>-1.558896e-02</td>\n",
              "    </tr>\n",
              "    <tr>\n",
              "      <th>infant deaths</th>\n",
              "      <td>1.381803e-01</td>\n",
              "    </tr>\n",
              "    <tr>\n",
              "      <th>Alcohol</th>\n",
              "      <td>2.928758e-01</td>\n",
              "    </tr>\n",
              "    <tr>\n",
              "      <th>percentage expenditure</th>\n",
              "      <td>-1.286444e-04</td>\n",
              "    </tr>\n",
              "    <tr>\n",
              "      <th>Hepatitis B</th>\n",
              "      <td>1.022886e-02</td>\n",
              "    </tr>\n",
              "    <tr>\n",
              "      <th>Measles</th>\n",
              "      <td>-2.588137e-07</td>\n",
              "    </tr>\n",
              "    <tr>\n",
              "      <th>BMI</th>\n",
              "      <td>4.377338e-02</td>\n",
              "    </tr>\n",
              "    <tr>\n",
              "      <th>under-five deaths</th>\n",
              "      <td>-1.041321e-01</td>\n",
              "    </tr>\n",
              "    <tr>\n",
              "      <th>Polio</th>\n",
              "      <td>3.052280e-02</td>\n",
              "    </tr>\n",
              "    <tr>\n",
              "      <th>Total expenditure</th>\n",
              "      <td>-8.141478e-02</td>\n",
              "    </tr>\n",
              "    <tr>\n",
              "      <th>Diphtheria</th>\n",
              "      <td>1.914229e-02</td>\n",
              "    </tr>\n",
              "    <tr>\n",
              "      <th>HIV/AIDS</th>\n",
              "      <td>-5.048269e-01</td>\n",
              "    </tr>\n",
              "    <tr>\n",
              "      <th>GDP</th>\n",
              "      <td>8.218849e-05</td>\n",
              "    </tr>\n",
              "    <tr>\n",
              "      <th>Population</th>\n",
              "      <td>-4.945320e-10</td>\n",
              "    </tr>\n",
              "    <tr>\n",
              "      <th>thinness  1-19 years</th>\n",
              "      <td>-1.025264e-01</td>\n",
              "    </tr>\n",
              "    <tr>\n",
              "      <th>thinness 5-9 years</th>\n",
              "      <td>2.613654e-02</td>\n",
              "    </tr>\n",
              "    <tr>\n",
              "      <th>Income composition of resources</th>\n",
              "      <td>6.667783e+00</td>\n",
              "    </tr>\n",
              "    <tr>\n",
              "      <th>Schooling</th>\n",
              "      <td>2.053480e-01</td>\n",
              "    </tr>\n",
              "  </tbody>\n",
              "</table>\n",
              "</div>"
            ],
            "text/plain": [
              "                                  Coefficient\n",
              "Year                            -5.048710e-03\n",
              "Status                           2.869336e+00\n",
              "Adult Mortality                 -1.558896e-02\n",
              "infant deaths                    1.381803e-01\n",
              "Alcohol                          2.928758e-01\n",
              "percentage expenditure          -1.286444e-04\n",
              "Hepatitis B                      1.022886e-02\n",
              "Measles                         -2.588137e-07\n",
              " BMI                             4.377338e-02\n",
              "under-five deaths               -1.041321e-01\n",
              "Polio                            3.052280e-02\n",
              "Total expenditure               -8.141478e-02\n",
              "Diphtheria                       1.914229e-02\n",
              " HIV/AIDS                       -5.048269e-01\n",
              "GDP                              8.218849e-05\n",
              "Population                      -4.945320e-10\n",
              " thinness  1-19 years           -1.025264e-01\n",
              " thinness 5-9 years              2.613654e-02\n",
              "Income composition of resources  6.667783e+00\n",
              "Schooling                        2.053480e-01"
            ]
          },
          "metadata": {},
          "execution_count": 18
        }
      ]
    },
    {
      "cell_type": "code",
      "metadata": {
        "id": "89luTRMmYsaT"
      },
      "source": [
        "predictions = lm.predict(X_test)"
      ],
      "execution_count": 19,
      "outputs": []
    },
    {
      "cell_type": "code",
      "metadata": {
        "colab": {
          "base_uri": "https://localhost:8080/",
          "height": 285
        },
        "id": "Krmcssb1YsYG",
        "outputId": "161adf66-ad5a-47c9-ac07-4ba8841a687e"
      },
      "source": [
        "plt.scatter(y_test,predictions)"
      ],
      "execution_count": 20,
      "outputs": [
        {
          "output_type": "execute_result",
          "data": {
            "text/plain": [
              "<matplotlib.collections.PathCollection at 0x7fc52ee21f10>"
            ]
          },
          "metadata": {},
          "execution_count": 20
        },
        {
          "output_type": "display_data",
          "data": {
            "image/png": "[encoded data removed]",
            "text/plain": [
              "<Figure size 432x288 with 1 Axes>"
            ]
          },
          "metadata": {
            "needs_background": "light"
          }
        }
      ]
    },
    {
      "cell_type": "markdown",
      "metadata": {
        "id": "y5WG7ezmmcYu"
      },
      "source": [
        ""
      ]
    },
    {
      "cell_type": "markdown",
      "metadata": {
        "id": "3HMAsdRCZhXB"
      },
      "source": [
        "Metrics to calculate MAE, MSE, RMSE"
      ]
    },
    {
      "cell_type": "code",
      "metadata": {
        "colab": {
          "base_uri": "https://localhost:8080/"
        },
        "id": "yDlPH-tnY-39",
        "outputId": "10f65aca-ce05-4a6d-d465-04a74b92a583"
      },
      "source": [
        "from sklearn import metrics\n",
        "print('MAE:', metrics.mean_absolute_error(y_test, predictions))\n",
        "print('MSE:', metrics.mean_squared_error(y_test, predictions))\n",
        "print('RMSE:', np.sqrt(metrics.mean_squared_error(y_test, predictions)))"
      ],
      "execution_count": 21,
      "outputs": [
        {
          "output_type": "stream",
          "name": "stdout",
          "text": [
            "MAE: 3.3592014981074465\n",
            "MSE: 28.427788801424363\n",
            "RMSE: 5.331771638154091\n"
          ]
        }
      ]
    },
    {
      "cell_type": "markdown",
      "metadata": {
        "id": "GDBsyplNnyPL"
      },
      "source": [
        "\n",
        "\n",
        "> Above created Linear Regression Model can be connected to the backend of a form to get output on a web application. The output would look something like this:\n",
        "\n"
      ]
    },
    {
      "cell_type": "markdown",
      "metadata": {
        "id": "MMVZMRv5oSHW"
      },
      "source": [
        "![image.png](data:image/png;base64,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)"
      ]
    }
  ]
}